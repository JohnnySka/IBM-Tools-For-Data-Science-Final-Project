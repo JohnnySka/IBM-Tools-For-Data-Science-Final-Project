{
 "cells": [
  {
   "cell_type": "markdown",
   "id": "28776d3b-5d5d-41e6-8b1b-d03b65d2be48",
   "metadata": {},
   "source": [
    "# Data Science Tools and Ecosystem"
   ]
  },
  {
   "cell_type": "markdown",
   "id": "500ae7f4-451d-40ac-831f-4749494c5357",
   "metadata": {},
   "source": [
    "In this notebook, Data Science Tools and Ecosystem are summarized."
   ]
  },
  {
   "cell_type": "markdown",
   "id": "78175104-fdfe-49f5-8cbd-a6c4870203be",
   "metadata": {},
   "source": [
    "**Objectives:**\n",
    "- List some popular languages used in Data Science\n",
    "- List some of the commonly used Data Science libraries\n",
    "- Provide simple examples of arithmetic expressions/evaluations in Python"
   ]
  },
  {
   "cell_type": "markdown",
   "id": "163d9d14-a43d-4b62-b414-aa3ffadc159b",
   "metadata": {},
   "source": [
    "Some of the popular languages that Data Scientists use are:"
   ]
  },
  {
   "cell_type": "markdown",
   "id": "f919cff7-ee00-4671-8400-8ff2d9ea0879",
   "metadata": {},
   "source": [
    "1. Python\n",
    "2. R\n",
    "3. SQL\n",
    "4. Scala\n",
    "5. Julia"
   ]
  },
  {
   "cell_type": "markdown",
   "id": "57aae8ad-53a9-4fc5-ade2-cc433ece15f8",
   "metadata": {},
   "source": [
    "Some of the commonly used libraries used by Data Scientists include:"
   ]
  },
  {
   "cell_type": "markdown",
   "id": "26d84094-487b-4fa7-a6a0-b6e0c35e11ea",
   "metadata": {},
   "source": [
    "1. Pandas\n",
    "2. Matplotlib\n",
    "3. Seaborn\n",
    "4. Numpy\n",
    "5. SciKit-Learn"
   ]
  },
  {
   "cell_type": "markdown",
   "id": "55700702-7f7b-4499-9ac6-fdf9db7c5d02",
   "metadata": {},
   "source": [
    "| Data Science Tools |\n",
    "|--------------------|\n",
    "| RStudio |\n",
    "| ApacheSpark |\n",
    "| TensorFlow |"
   ]
  },
  {
   "cell_type": "markdown",
   "id": "15d2c64d-69d4-41bb-92d1-7f1c8d7205c6",
   "metadata": {},
   "source": [
    "### Below are a few examples of evaluating arithmetic expressions in Python ###"
   ]
  },
  {
   "cell_type": "code",
   "execution_count": 1,
   "id": "733b6a34-29c1-4aa1-922f-120fa9cb3806",
   "metadata": {
    "tags": []
   },
   "outputs": [
    {
     "data": {
      "text/plain": [
       "17"
      ]
     },
     "execution_count": 1,
     "metadata": {},
     "output_type": "execute_result"
    }
   ],
   "source": [
    "# This a simple arithmetic expression to mutiply then add integers\n",
    "(3*4)+5"
   ]
  },
  {
   "cell_type": "code",
   "execution_count": 2,
   "id": "534858bf-8954-4e95-8f7b-909127e1b60c",
   "metadata": {
    "tags": []
   },
   "outputs": [
    {
     "data": {
      "text/plain": [
       "3.3333333333333335"
      ]
     },
     "execution_count": 2,
     "metadata": {},
     "output_type": "execute_result"
    }
   ],
   "source": [
    "# This will convert 200 minutes to hours by diving by 60\n",
    "200/60"
   ]
  },
  {
   "cell_type": "markdown",
   "id": "b7d7c9d4-f08b-4bf4-9c9e-9499d02bc0cc",
   "metadata": {},
   "source": [
    "## AUTHOR : ##\n",
    "Ioannis Stathakis"
   ]
  },
  {
   "cell_type": "code",
   "execution_count": null,
   "id": "dc604f19-e58f-43ba-9ce7-5647e857e8c3",
   "metadata": {},
   "outputs": [],
   "source": []
  }
 ],
 "metadata": {
  "kernelspec": {
   "display_name": "Python 3 (ipykernel)",
   "language": "python",
   "name": "python3"
  },
  "language_info": {
   "codemirror_mode": {
    "name": "ipython",
    "version": 3
   },
   "file_extension": ".py",
   "mimetype": "text/x-python",
   "name": "python",
   "nbconvert_exporter": "python",
   "pygments_lexer": "ipython3",
   "version": "3.11.4"
  }
 },
 "nbformat": 4,
 "nbformat_minor": 5
}
